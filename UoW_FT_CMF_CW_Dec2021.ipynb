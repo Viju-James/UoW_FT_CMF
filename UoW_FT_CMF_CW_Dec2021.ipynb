{
 "cells": [
  {
   "cell_type": "markdown",
   "id": "c6bb2dbb",
   "metadata": {},
   "source": [
    "# CMF Coursework - Dec 2021"
   ]
  },
  {
   "cell_type": "markdown",
   "id": "bab698f6",
   "metadata": {},
   "source": [
    "## AIM: Report on a Financial Derivative"
   ]
  },
  {
   "cell_type": "markdown",
   "id": "09f2fa78",
   "metadata": {},
   "source": [
    "### Step 1: Data Collection"
   ]
  },
  {
   "cell_type": "markdown",
   "id": "66172eab",
   "metadata": {},
   "source": [
    "#### Step 1-a: Install the library - yfinance"
   ]
  },
  {
   "cell_type": "code",
   "execution_count": 1,
   "id": "9be68dff",
   "metadata": {},
   "outputs": [
    {
     "name": "stdout",
     "output_type": "stream",
     "text": [
      "Requirement already satisfied: yfinance in c:\\users\\shincy\\anaconda3\\lib\\site-packages (0.1.67)\n",
      "Requirement already satisfied: pandas>=0.24 in c:\\users\\shincy\\anaconda3\\lib\\site-packages (from yfinance) (1.2.4)\n",
      "Requirement already satisfied: multitasking>=0.0.7 in c:\\users\\shincy\\anaconda3\\lib\\site-packages (from yfinance) (0.0.10)\n",
      "Requirement already satisfied: requests>=2.20 in c:\\users\\shincy\\anaconda3\\lib\\site-packages (from yfinance) (2.25.1)\n",
      "Requirement already satisfied: lxml>=4.5.1 in c:\\users\\shincy\\anaconda3\\lib\\site-packages (from yfinance) (4.6.3)\n",
      "Requirement already satisfied: numpy>=1.15 in c:\\users\\shincy\\anaconda3\\lib\\site-packages (from yfinance) (1.20.1)\n",
      "Requirement already satisfied: python-dateutil>=2.7.3 in c:\\users\\shincy\\anaconda3\\lib\\site-packages (from pandas>=0.24->yfinance) (2.8.1)\n",
      "Requirement already satisfied: pytz>=2017.3 in c:\\users\\shincy\\anaconda3\\lib\\site-packages (from pandas>=0.24->yfinance) (2021.1)\n",
      "Requirement already satisfied: six>=1.5 in c:\\users\\shincy\\anaconda3\\lib\\site-packages (from python-dateutil>=2.7.3->pandas>=0.24->yfinance) (1.15.0)\n",
      "Requirement already satisfied: idna<3,>=2.5 in c:\\users\\shincy\\anaconda3\\lib\\site-packages (from requests>=2.20->yfinance) (2.10)\n",
      "Requirement already satisfied: certifi>=2017.4.17 in c:\\users\\shincy\\anaconda3\\lib\\site-packages (from requests>=2.20->yfinance) (2020.12.5)\n",
      "Requirement already satisfied: chardet<5,>=3.0.2 in c:\\users\\shincy\\anaconda3\\lib\\site-packages (from requests>=2.20->yfinance) (4.0.0)\n",
      "Requirement already satisfied: urllib3<1.27,>=1.21.1 in c:\\users\\shincy\\anaconda3\\lib\\site-packages (from requests>=2.20->yfinance) (1.26.4)\n",
      "Note: you may need to restart the kernel to use updated packages.\n"
     ]
    }
   ],
   "source": [
    "pip install yfinance"
   ]
  },
  {
   "cell_type": "markdown",
   "id": "e8ae7b21",
   "metadata": {},
   "source": [
    "#### Step 1-b: Import Libraries"
   ]
  },
  {
   "cell_type": "code",
   "execution_count": 2,
   "id": "5625f1bb",
   "metadata": {},
   "outputs": [],
   "source": [
    "import yfinance as yf\n",
    "import numpy as np\n",
    "import pandas as pd\n",
    "import matplotlib as mpl\n",
    "import os\n",
    "import scipy.stats as si"
   ]
  },
  {
   "cell_type": "markdown",
   "id": "a683ae7b",
   "metadata": {},
   "source": [
    "#### Step 1-c: Pull data for Fiserv Inc - FISV:NASDAQ"
   ]
  },
  {
   "cell_type": "code",
   "execution_count": 3,
   "id": "0b7b82a2",
   "metadata": {},
   "outputs": [
    {
     "name": "stdout",
     "output_type": "stream",
     "text": [
      "[*********************100%***********************]  2 of 2 completed\n"
     ]
    }
   ],
   "source": [
    "data_fisv = yf.download(\"FISV ^VIX\", start=\"2020-10-02\", end=\"2021-11-02\")"
   ]
  },
  {
   "cell_type": "markdown",
   "id": "ca8dc90e",
   "metadata": {},
   "source": [
    "#### Step 1-d: Reviewing the data"
   ]
  },
  {
   "cell_type": "code",
   "execution_count": 4,
   "id": "95377f61",
   "metadata": {},
   "outputs": [
    {
     "data": {
      "text/html": [
       "<div>\n",
       "<style scoped>\n",
       "    .dataframe tbody tr th:only-of-type {\n",
       "        vertical-align: middle;\n",
       "    }\n",
       "\n",
       "    .dataframe tbody tr th {\n",
       "        vertical-align: top;\n",
       "    }\n",
       "\n",
       "    .dataframe thead tr th {\n",
       "        text-align: left;\n",
       "    }\n",
       "\n",
       "    .dataframe thead tr:last-of-type th {\n",
       "        text-align: right;\n",
       "    }\n",
       "</style>\n",
       "<table border=\"1\" class=\"dataframe\">\n",
       "  <thead>\n",
       "    <tr>\n",
       "      <th></th>\n",
       "      <th colspan=\"2\" halign=\"left\">Adj Close</th>\n",
       "      <th colspan=\"2\" halign=\"left\">Close</th>\n",
       "      <th colspan=\"2\" halign=\"left\">High</th>\n",
       "      <th colspan=\"2\" halign=\"left\">Low</th>\n",
       "      <th colspan=\"2\" halign=\"left\">Open</th>\n",
       "      <th colspan=\"2\" halign=\"left\">Volume</th>\n",
       "    </tr>\n",
       "    <tr>\n",
       "      <th></th>\n",
       "      <th>FISV</th>\n",
       "      <th>^VIX</th>\n",
       "      <th>FISV</th>\n",
       "      <th>^VIX</th>\n",
       "      <th>FISV</th>\n",
       "      <th>^VIX</th>\n",
       "      <th>FISV</th>\n",
       "      <th>^VIX</th>\n",
       "      <th>FISV</th>\n",
       "      <th>^VIX</th>\n",
       "      <th>FISV</th>\n",
       "      <th>^VIX</th>\n",
       "    </tr>\n",
       "    <tr>\n",
       "      <th>Date</th>\n",
       "      <th></th>\n",
       "      <th></th>\n",
       "      <th></th>\n",
       "      <th></th>\n",
       "      <th></th>\n",
       "      <th></th>\n",
       "      <th></th>\n",
       "      <th></th>\n",
       "      <th></th>\n",
       "      <th></th>\n",
       "      <th></th>\n",
       "      <th></th>\n",
       "    </tr>\n",
       "  </thead>\n",
       "  <tbody>\n",
       "    <tr>\n",
       "      <th>2020-10-01</th>\n",
       "      <td>104.250000</td>\n",
       "      <td>26.700001</td>\n",
       "      <td>104.250000</td>\n",
       "      <td>26.700001</td>\n",
       "      <td>105.800003</td>\n",
       "      <td>27.110001</td>\n",
       "      <td>103.379997</td>\n",
       "      <td>25.330000</td>\n",
       "      <td>104.290001</td>\n",
       "      <td>25.780001</td>\n",
       "      <td>2943600</td>\n",
       "      <td>0</td>\n",
       "    </tr>\n",
       "    <tr>\n",
       "      <th>2020-10-02</th>\n",
       "      <td>101.650002</td>\n",
       "      <td>27.629999</td>\n",
       "      <td>101.650002</td>\n",
       "      <td>27.629999</td>\n",
       "      <td>102.949997</td>\n",
       "      <td>29.900000</td>\n",
       "      <td>100.900002</td>\n",
       "      <td>26.930000</td>\n",
       "      <td>101.900002</td>\n",
       "      <td>28.870001</td>\n",
       "      <td>3257200</td>\n",
       "      <td>0</td>\n",
       "    </tr>\n",
       "    <tr>\n",
       "      <th>2020-10-05</th>\n",
       "      <td>100.820000</td>\n",
       "      <td>27.959999</td>\n",
       "      <td>100.820000</td>\n",
       "      <td>27.959999</td>\n",
       "      <td>102.989998</td>\n",
       "      <td>29.690001</td>\n",
       "      <td>100.059998</td>\n",
       "      <td>27.270000</td>\n",
       "      <td>102.800003</td>\n",
       "      <td>29.520000</td>\n",
       "      <td>4268000</td>\n",
       "      <td>0</td>\n",
       "    </tr>\n",
       "    <tr>\n",
       "      <th>2020-10-06</th>\n",
       "      <td>102.360001</td>\n",
       "      <td>29.480000</td>\n",
       "      <td>102.360001</td>\n",
       "      <td>29.480000</td>\n",
       "      <td>104.739998</td>\n",
       "      <td>30.000000</td>\n",
       "      <td>101.860001</td>\n",
       "      <td>26.010000</td>\n",
       "      <td>102.660004</td>\n",
       "      <td>28.049999</td>\n",
       "      <td>4581500</td>\n",
       "      <td>0</td>\n",
       "    </tr>\n",
       "    <tr>\n",
       "      <th>2020-10-07</th>\n",
       "      <td>102.419998</td>\n",
       "      <td>28.059999</td>\n",
       "      <td>102.419998</td>\n",
       "      <td>28.059999</td>\n",
       "      <td>103.629997</td>\n",
       "      <td>29.760000</td>\n",
       "      <td>101.779999</td>\n",
       "      <td>27.940001</td>\n",
       "      <td>102.959999</td>\n",
       "      <td>29.260000</td>\n",
       "      <td>3744200</td>\n",
       "      <td>0</td>\n",
       "    </tr>\n",
       "    <tr>\n",
       "      <th>2020-10-08</th>\n",
       "      <td>103.389999</td>\n",
       "      <td>26.360001</td>\n",
       "      <td>103.389999</td>\n",
       "      <td>26.360001</td>\n",
       "      <td>104.199997</td>\n",
       "      <td>27.990000</td>\n",
       "      <td>102.639999</td>\n",
       "      <td>24.879999</td>\n",
       "      <td>103.330002</td>\n",
       "      <td>27.650000</td>\n",
       "      <td>2680500</td>\n",
       "      <td>0</td>\n",
       "    </tr>\n",
       "    <tr>\n",
       "      <th>2020-10-09</th>\n",
       "      <td>105.110001</td>\n",
       "      <td>25.000000</td>\n",
       "      <td>105.110001</td>\n",
       "      <td>25.000000</td>\n",
       "      <td>105.269997</td>\n",
       "      <td>26.219999</td>\n",
       "      <td>103.150002</td>\n",
       "      <td>24.030001</td>\n",
       "      <td>103.879997</td>\n",
       "      <td>26.200001</td>\n",
       "      <td>2484700</td>\n",
       "      <td>0</td>\n",
       "    </tr>\n",
       "    <tr>\n",
       "      <th>2020-10-12</th>\n",
       "      <td>106.680000</td>\n",
       "      <td>25.070000</td>\n",
       "      <td>106.680000</td>\n",
       "      <td>25.070000</td>\n",
       "      <td>107.199997</td>\n",
       "      <td>25.650000</td>\n",
       "      <td>104.559998</td>\n",
       "      <td>24.139999</td>\n",
       "      <td>105.589996</td>\n",
       "      <td>25.650000</td>\n",
       "      <td>4772500</td>\n",
       "      <td>0</td>\n",
       "    </tr>\n",
       "    <tr>\n",
       "      <th>2020-10-13</th>\n",
       "      <td>104.760002</td>\n",
       "      <td>26.070000</td>\n",
       "      <td>104.760002</td>\n",
       "      <td>26.070000</td>\n",
       "      <td>107.080002</td>\n",
       "      <td>26.930000</td>\n",
       "      <td>104.709999</td>\n",
       "      <td>25.160000</td>\n",
       "      <td>106.750000</td>\n",
       "      <td>25.670000</td>\n",
       "      <td>4155000</td>\n",
       "      <td>0</td>\n",
       "    </tr>\n",
       "    <tr>\n",
       "      <th>2020-10-14</th>\n",
       "      <td>102.709999</td>\n",
       "      <td>26.400000</td>\n",
       "      <td>102.709999</td>\n",
       "      <td>26.400000</td>\n",
       "      <td>105.330002</td>\n",
       "      <td>27.230000</td>\n",
       "      <td>101.800003</td>\n",
       "      <td>25.530001</td>\n",
       "      <td>104.760002</td>\n",
       "      <td>25.719999</td>\n",
       "      <td>4643400</td>\n",
       "      <td>0</td>\n",
       "    </tr>\n",
       "    <tr>\n",
       "      <th>2020-10-15</th>\n",
       "      <td>101.809998</td>\n",
       "      <td>26.969999</td>\n",
       "      <td>101.809998</td>\n",
       "      <td>26.969999</td>\n",
       "      <td>102.059998</td>\n",
       "      <td>29.059999</td>\n",
       "      <td>100.320000</td>\n",
       "      <td>26.820000</td>\n",
       "      <td>101.230003</td>\n",
       "      <td>27.100000</td>\n",
       "      <td>3689000</td>\n",
       "      <td>0</td>\n",
       "    </tr>\n",
       "    <tr>\n",
       "      <th>2020-10-16</th>\n",
       "      <td>101.220001</td>\n",
       "      <td>27.410000</td>\n",
       "      <td>101.220001</td>\n",
       "      <td>27.410000</td>\n",
       "      <td>103.529999</td>\n",
       "      <td>27.459999</td>\n",
       "      <td>101.000000</td>\n",
       "      <td>26.190001</td>\n",
       "      <td>102.309998</td>\n",
       "      <td>27.160000</td>\n",
       "      <td>2885400</td>\n",
       "      <td>0</td>\n",
       "    </tr>\n",
       "    <tr>\n",
       "      <th>2020-10-19</th>\n",
       "      <td>98.739998</td>\n",
       "      <td>29.180000</td>\n",
       "      <td>98.739998</td>\n",
       "      <td>29.180000</td>\n",
       "      <td>101.519997</td>\n",
       "      <td>29.690001</td>\n",
       "      <td>98.459999</td>\n",
       "      <td>27.040001</td>\n",
       "      <td>101.360001</td>\n",
       "      <td>27.360001</td>\n",
       "      <td>3800200</td>\n",
       "      <td>0</td>\n",
       "    </tr>\n",
       "    <tr>\n",
       "      <th>2020-10-20</th>\n",
       "      <td>99.529999</td>\n",
       "      <td>29.350000</td>\n",
       "      <td>99.529999</td>\n",
       "      <td>29.350000</td>\n",
       "      <td>100.230003</td>\n",
       "      <td>29.600000</td>\n",
       "      <td>98.360001</td>\n",
       "      <td>28.290001</td>\n",
       "      <td>99.110001</td>\n",
       "      <td>28.809999</td>\n",
       "      <td>2889400</td>\n",
       "      <td>0</td>\n",
       "    </tr>\n",
       "  </tbody>\n",
       "</table>\n",
       "</div>"
      ],
      "text/plain": [
       "             Adj Close                  Close                   High  \\\n",
       "                  FISV       ^VIX        FISV       ^VIX        FISV   \n",
       "Date                                                                   \n",
       "2020-10-01  104.250000  26.700001  104.250000  26.700001  105.800003   \n",
       "2020-10-02  101.650002  27.629999  101.650002  27.629999  102.949997   \n",
       "2020-10-05  100.820000  27.959999  100.820000  27.959999  102.989998   \n",
       "2020-10-06  102.360001  29.480000  102.360001  29.480000  104.739998   \n",
       "2020-10-07  102.419998  28.059999  102.419998  28.059999  103.629997   \n",
       "2020-10-08  103.389999  26.360001  103.389999  26.360001  104.199997   \n",
       "2020-10-09  105.110001  25.000000  105.110001  25.000000  105.269997   \n",
       "2020-10-12  106.680000  25.070000  106.680000  25.070000  107.199997   \n",
       "2020-10-13  104.760002  26.070000  104.760002  26.070000  107.080002   \n",
       "2020-10-14  102.709999  26.400000  102.709999  26.400000  105.330002   \n",
       "2020-10-15  101.809998  26.969999  101.809998  26.969999  102.059998   \n",
       "2020-10-16  101.220001  27.410000  101.220001  27.410000  103.529999   \n",
       "2020-10-19   98.739998  29.180000   98.739998  29.180000  101.519997   \n",
       "2020-10-20   99.529999  29.350000   99.529999  29.350000  100.230003   \n",
       "\n",
       "                              Low                   Open              Volume  \\\n",
       "                 ^VIX        FISV       ^VIX        FISV       ^VIX     FISV   \n",
       "Date                                                                           \n",
       "2020-10-01  27.110001  103.379997  25.330000  104.290001  25.780001  2943600   \n",
       "2020-10-02  29.900000  100.900002  26.930000  101.900002  28.870001  3257200   \n",
       "2020-10-05  29.690001  100.059998  27.270000  102.800003  29.520000  4268000   \n",
       "2020-10-06  30.000000  101.860001  26.010000  102.660004  28.049999  4581500   \n",
       "2020-10-07  29.760000  101.779999  27.940001  102.959999  29.260000  3744200   \n",
       "2020-10-08  27.990000  102.639999  24.879999  103.330002  27.650000  2680500   \n",
       "2020-10-09  26.219999  103.150002  24.030001  103.879997  26.200001  2484700   \n",
       "2020-10-12  25.650000  104.559998  24.139999  105.589996  25.650000  4772500   \n",
       "2020-10-13  26.930000  104.709999  25.160000  106.750000  25.670000  4155000   \n",
       "2020-10-14  27.230000  101.800003  25.530001  104.760002  25.719999  4643400   \n",
       "2020-10-15  29.059999  100.320000  26.820000  101.230003  27.100000  3689000   \n",
       "2020-10-16  27.459999  101.000000  26.190001  102.309998  27.160000  2885400   \n",
       "2020-10-19  29.690001   98.459999  27.040001  101.360001  27.360001  3800200   \n",
       "2020-10-20  29.600000   98.360001  28.290001   99.110001  28.809999  2889400   \n",
       "\n",
       "                 \n",
       "           ^VIX  \n",
       "Date             \n",
       "2020-10-01    0  \n",
       "2020-10-02    0  \n",
       "2020-10-05    0  \n",
       "2020-10-06    0  \n",
       "2020-10-07    0  \n",
       "2020-10-08    0  \n",
       "2020-10-09    0  \n",
       "2020-10-12    0  \n",
       "2020-10-13    0  \n",
       "2020-10-14    0  \n",
       "2020-10-15    0  \n",
       "2020-10-16    0  \n",
       "2020-10-19    0  \n",
       "2020-10-20    0  "
      ]
     },
     "execution_count": 4,
     "metadata": {},
     "output_type": "execute_result"
    }
   ],
   "source": [
    "data_fisv.head(14)"
   ]
  },
  {
   "cell_type": "markdown",
   "id": "81d9ef11",
   "metadata": {},
   "source": [
    "#### Step 1-e: Choosing Adj Close Data & Review"
   ]
  },
  {
   "cell_type": "code",
   "execution_count": 5,
   "id": "db57f6cd",
   "metadata": {},
   "outputs": [
    {
     "data": {
      "text/html": [
       "<div>\n",
       "<style scoped>\n",
       "    .dataframe tbody tr th:only-of-type {\n",
       "        vertical-align: middle;\n",
       "    }\n",
       "\n",
       "    .dataframe tbody tr th {\n",
       "        vertical-align: top;\n",
       "    }\n",
       "\n",
       "    .dataframe thead th {\n",
       "        text-align: right;\n",
       "    }\n",
       "</style>\n",
       "<table border=\"1\" class=\"dataframe\">\n",
       "  <thead>\n",
       "    <tr style=\"text-align: right;\">\n",
       "      <th></th>\n",
       "      <th>FISV</th>\n",
       "      <th>^VIX</th>\n",
       "    </tr>\n",
       "    <tr>\n",
       "      <th>Date</th>\n",
       "      <th></th>\n",
       "      <th></th>\n",
       "    </tr>\n",
       "  </thead>\n",
       "  <tbody>\n",
       "    <tr>\n",
       "      <th>2020-10-01</th>\n",
       "      <td>104.250000</td>\n",
       "      <td>26.700001</td>\n",
       "    </tr>\n",
       "    <tr>\n",
       "      <th>2020-10-02</th>\n",
       "      <td>101.650002</td>\n",
       "      <td>27.629999</td>\n",
       "    </tr>\n",
       "    <tr>\n",
       "      <th>2020-10-05</th>\n",
       "      <td>100.820000</td>\n",
       "      <td>27.959999</td>\n",
       "    </tr>\n",
       "    <tr>\n",
       "      <th>2020-10-06</th>\n",
       "      <td>102.360001</td>\n",
       "      <td>29.480000</td>\n",
       "    </tr>\n",
       "    <tr>\n",
       "      <th>2020-10-07</th>\n",
       "      <td>102.419998</td>\n",
       "      <td>28.059999</td>\n",
       "    </tr>\n",
       "    <tr>\n",
       "      <th>2020-10-08</th>\n",
       "      <td>103.389999</td>\n",
       "      <td>26.360001</td>\n",
       "    </tr>\n",
       "    <tr>\n",
       "      <th>2020-10-09</th>\n",
       "      <td>105.110001</td>\n",
       "      <td>25.000000</td>\n",
       "    </tr>\n",
       "    <tr>\n",
       "      <th>2020-10-12</th>\n",
       "      <td>106.680000</td>\n",
       "      <td>25.070000</td>\n",
       "    </tr>\n",
       "    <tr>\n",
       "      <th>2020-10-13</th>\n",
       "      <td>104.760002</td>\n",
       "      <td>26.070000</td>\n",
       "    </tr>\n",
       "    <tr>\n",
       "      <th>2020-10-14</th>\n",
       "      <td>102.709999</td>\n",
       "      <td>26.400000</td>\n",
       "    </tr>\n",
       "    <tr>\n",
       "      <th>2020-10-15</th>\n",
       "      <td>101.809998</td>\n",
       "      <td>26.969999</td>\n",
       "    </tr>\n",
       "    <tr>\n",
       "      <th>2020-10-16</th>\n",
       "      <td>101.220001</td>\n",
       "      <td>27.410000</td>\n",
       "    </tr>\n",
       "    <tr>\n",
       "      <th>2020-10-19</th>\n",
       "      <td>98.739998</td>\n",
       "      <td>29.180000</td>\n",
       "    </tr>\n",
       "    <tr>\n",
       "      <th>2020-10-20</th>\n",
       "      <td>99.529999</td>\n",
       "      <td>29.350000</td>\n",
       "    </tr>\n",
       "  </tbody>\n",
       "</table>\n",
       "</div>"
      ],
      "text/plain": [
       "                  FISV       ^VIX\n",
       "Date                             \n",
       "2020-10-01  104.250000  26.700001\n",
       "2020-10-02  101.650002  27.629999\n",
       "2020-10-05  100.820000  27.959999\n",
       "2020-10-06  102.360001  29.480000\n",
       "2020-10-07  102.419998  28.059999\n",
       "2020-10-08  103.389999  26.360001\n",
       "2020-10-09  105.110001  25.000000\n",
       "2020-10-12  106.680000  25.070000\n",
       "2020-10-13  104.760002  26.070000\n",
       "2020-10-14  102.709999  26.400000\n",
       "2020-10-15  101.809998  26.969999\n",
       "2020-10-16  101.220001  27.410000\n",
       "2020-10-19   98.739998  29.180000\n",
       "2020-10-20   99.529999  29.350000"
      ]
     },
     "execution_count": 5,
     "metadata": {},
     "output_type": "execute_result"
    }
   ],
   "source": [
    "data_fisv['Adj Close'].head(14)"
   ]
  },
  {
   "cell_type": "code",
   "execution_count": 6,
   "id": "311f0cdf",
   "metadata": {},
   "outputs": [],
   "source": [
    "data_temp1 = data_fisv['Adj Close']\n",
    "data_fisv_adjclose = pd.DataFrame(data_temp1).dropna()"
   ]
  },
  {
   "cell_type": "code",
   "execution_count": 7,
   "id": "51715b95",
   "metadata": {},
   "outputs": [
    {
     "name": "stdout",
     "output_type": "stream",
     "text": [
      "<class 'pandas.core.frame.DataFrame'>\n",
      "DatetimeIndex: 274 entries, 2020-10-01 to 2021-11-01\n",
      "Data columns (total 2 columns):\n",
      " #   Column  Non-Null Count  Dtype  \n",
      "---  ------  --------------  -----  \n",
      " 0   FISV    274 non-null    float64\n",
      " 1   ^VIX    274 non-null    float64\n",
      "dtypes: float64(2)\n",
      "memory usage: 6.4 KB\n"
     ]
    }
   ],
   "source": [
    "data_fisv_adjclose.info()"
   ]
  },
  {
   "cell_type": "code",
   "execution_count": 8,
   "id": "3c8c07d9",
   "metadata": {},
   "outputs": [
    {
     "data": {
      "text/html": [
       "<div>\n",
       "<style scoped>\n",
       "    .dataframe tbody tr th:only-of-type {\n",
       "        vertical-align: middle;\n",
       "    }\n",
       "\n",
       "    .dataframe tbody tr th {\n",
       "        vertical-align: top;\n",
       "    }\n",
       "\n",
       "    .dataframe thead th {\n",
       "        text-align: right;\n",
       "    }\n",
       "</style>\n",
       "<table border=\"1\" class=\"dataframe\">\n",
       "  <thead>\n",
       "    <tr style=\"text-align: right;\">\n",
       "      <th></th>\n",
       "      <th>FISV</th>\n",
       "      <th>^VIX</th>\n",
       "    </tr>\n",
       "    <tr>\n",
       "      <th>Date</th>\n",
       "      <th></th>\n",
       "      <th></th>\n",
       "    </tr>\n",
       "  </thead>\n",
       "  <tbody>\n",
       "    <tr>\n",
       "      <th>2020-10-01</th>\n",
       "      <td>104.250000</td>\n",
       "      <td>26.700001</td>\n",
       "    </tr>\n",
       "    <tr>\n",
       "      <th>2020-10-02</th>\n",
       "      <td>101.650002</td>\n",
       "      <td>27.629999</td>\n",
       "    </tr>\n",
       "    <tr>\n",
       "      <th>2020-10-05</th>\n",
       "      <td>100.820000</td>\n",
       "      <td>27.959999</td>\n",
       "    </tr>\n",
       "    <tr>\n",
       "      <th>2020-10-06</th>\n",
       "      <td>102.360001</td>\n",
       "      <td>29.480000</td>\n",
       "    </tr>\n",
       "    <tr>\n",
       "      <th>2020-10-07</th>\n",
       "      <td>102.419998</td>\n",
       "      <td>28.059999</td>\n",
       "    </tr>\n",
       "    <tr>\n",
       "      <th>2020-10-08</th>\n",
       "      <td>103.389999</td>\n",
       "      <td>26.360001</td>\n",
       "    </tr>\n",
       "    <tr>\n",
       "      <th>2020-10-09</th>\n",
       "      <td>105.110001</td>\n",
       "      <td>25.000000</td>\n",
       "    </tr>\n",
       "    <tr>\n",
       "      <th>2020-10-12</th>\n",
       "      <td>106.680000</td>\n",
       "      <td>25.070000</td>\n",
       "    </tr>\n",
       "    <tr>\n",
       "      <th>2020-10-13</th>\n",
       "      <td>104.760002</td>\n",
       "      <td>26.070000</td>\n",
       "    </tr>\n",
       "    <tr>\n",
       "      <th>2020-10-14</th>\n",
       "      <td>102.709999</td>\n",
       "      <td>26.400000</td>\n",
       "    </tr>\n",
       "    <tr>\n",
       "      <th>2020-10-15</th>\n",
       "      <td>101.809998</td>\n",
       "      <td>26.969999</td>\n",
       "    </tr>\n",
       "    <tr>\n",
       "      <th>2020-10-16</th>\n",
       "      <td>101.220001</td>\n",
       "      <td>27.410000</td>\n",
       "    </tr>\n",
       "    <tr>\n",
       "      <th>2020-10-19</th>\n",
       "      <td>98.739998</td>\n",
       "      <td>29.180000</td>\n",
       "    </tr>\n",
       "    <tr>\n",
       "      <th>2020-10-20</th>\n",
       "      <td>99.529999</td>\n",
       "      <td>29.350000</td>\n",
       "    </tr>\n",
       "  </tbody>\n",
       "</table>\n",
       "</div>"
      ],
      "text/plain": [
       "                  FISV       ^VIX\n",
       "Date                             \n",
       "2020-10-01  104.250000  26.700001\n",
       "2020-10-02  101.650002  27.629999\n",
       "2020-10-05  100.820000  27.959999\n",
       "2020-10-06  102.360001  29.480000\n",
       "2020-10-07  102.419998  28.059999\n",
       "2020-10-08  103.389999  26.360001\n",
       "2020-10-09  105.110001  25.000000\n",
       "2020-10-12  106.680000  25.070000\n",
       "2020-10-13  104.760002  26.070000\n",
       "2020-10-14  102.709999  26.400000\n",
       "2020-10-15  101.809998  26.969999\n",
       "2020-10-16  101.220001  27.410000\n",
       "2020-10-19   98.739998  29.180000\n",
       "2020-10-20   99.529999  29.350000"
      ]
     },
     "execution_count": 8,
     "metadata": {},
     "output_type": "execute_result"
    }
   ],
   "source": [
    "data_fisv_adjclose.head(14)"
   ]
  },
  {
   "cell_type": "code",
   "execution_count": 9,
   "id": "8249e190",
   "metadata": {},
   "outputs": [
    {
     "data": {
      "text/html": [
       "<div>\n",
       "<style scoped>\n",
       "    .dataframe tbody tr th:only-of-type {\n",
       "        vertical-align: middle;\n",
       "    }\n",
       "\n",
       "    .dataframe tbody tr th {\n",
       "        vertical-align: top;\n",
       "    }\n",
       "\n",
       "    .dataframe thead th {\n",
       "        text-align: right;\n",
       "    }\n",
       "</style>\n",
       "<table border=\"1\" class=\"dataframe\">\n",
       "  <thead>\n",
       "    <tr style=\"text-align: right;\">\n",
       "      <th></th>\n",
       "      <th>FISV</th>\n",
       "      <th>^VIX</th>\n",
       "    </tr>\n",
       "    <tr>\n",
       "      <th>Date</th>\n",
       "      <th></th>\n",
       "      <th></th>\n",
       "    </tr>\n",
       "  </thead>\n",
       "  <tbody>\n",
       "    <tr>\n",
       "      <th>2021-10-13</th>\n",
       "      <td>104.339996</td>\n",
       "      <td>18.639999</td>\n",
       "    </tr>\n",
       "    <tr>\n",
       "      <th>2021-10-14</th>\n",
       "      <td>107.779999</td>\n",
       "      <td>16.860001</td>\n",
       "    </tr>\n",
       "    <tr>\n",
       "      <th>2021-10-15</th>\n",
       "      <td>109.800003</td>\n",
       "      <td>16.299999</td>\n",
       "    </tr>\n",
       "    <tr>\n",
       "      <th>2021-10-18</th>\n",
       "      <td>110.010002</td>\n",
       "      <td>16.309999</td>\n",
       "    </tr>\n",
       "    <tr>\n",
       "      <th>2021-10-19</th>\n",
       "      <td>111.290001</td>\n",
       "      <td>15.700000</td>\n",
       "    </tr>\n",
       "    <tr>\n",
       "      <th>2021-10-20</th>\n",
       "      <td>110.110001</td>\n",
       "      <td>15.490000</td>\n",
       "    </tr>\n",
       "    <tr>\n",
       "      <th>2021-10-21</th>\n",
       "      <td>110.160004</td>\n",
       "      <td>15.010000</td>\n",
       "    </tr>\n",
       "    <tr>\n",
       "      <th>2021-10-22</th>\n",
       "      <td>110.180000</td>\n",
       "      <td>15.430000</td>\n",
       "    </tr>\n",
       "    <tr>\n",
       "      <th>2021-10-25</th>\n",
       "      <td>111.110001</td>\n",
       "      <td>15.240000</td>\n",
       "    </tr>\n",
       "    <tr>\n",
       "      <th>2021-10-26</th>\n",
       "      <td>109.839996</td>\n",
       "      <td>15.980000</td>\n",
       "    </tr>\n",
       "    <tr>\n",
       "      <th>2021-10-27</th>\n",
       "      <td>98.830002</td>\n",
       "      <td>16.980000</td>\n",
       "    </tr>\n",
       "    <tr>\n",
       "      <th>2021-10-28</th>\n",
       "      <td>98.529999</td>\n",
       "      <td>16.530001</td>\n",
       "    </tr>\n",
       "    <tr>\n",
       "      <th>2021-10-29</th>\n",
       "      <td>98.489998</td>\n",
       "      <td>16.260000</td>\n",
       "    </tr>\n",
       "    <tr>\n",
       "      <th>2021-11-01</th>\n",
       "      <td>101.989998</td>\n",
       "      <td>16.410000</td>\n",
       "    </tr>\n",
       "  </tbody>\n",
       "</table>\n",
       "</div>"
      ],
      "text/plain": [
       "                  FISV       ^VIX\n",
       "Date                             \n",
       "2021-10-13  104.339996  18.639999\n",
       "2021-10-14  107.779999  16.860001\n",
       "2021-10-15  109.800003  16.299999\n",
       "2021-10-18  110.010002  16.309999\n",
       "2021-10-19  111.290001  15.700000\n",
       "2021-10-20  110.110001  15.490000\n",
       "2021-10-21  110.160004  15.010000\n",
       "2021-10-22  110.180000  15.430000\n",
       "2021-10-25  111.110001  15.240000\n",
       "2021-10-26  109.839996  15.980000\n",
       "2021-10-27   98.830002  16.980000\n",
       "2021-10-28   98.529999  16.530001\n",
       "2021-10-29   98.489998  16.260000\n",
       "2021-11-01  101.989998  16.410000"
      ]
     },
     "execution_count": 9,
     "metadata": {},
     "output_type": "execute_result"
    }
   ],
   "source": [
    "data_fisv_adjclose.tail(14)"
   ]
  },
  {
   "cell_type": "markdown",
   "id": "119a467a",
   "metadata": {},
   "source": [
    "### Step 2: FISV Adj Close Price - Plots & Stats"
   ]
  },
  {
   "cell_type": "markdown",
   "id": "993f5aa8",
   "metadata": {},
   "source": [
    "#### Step 2-a: Show the movement of FISV Adj Close Price"
   ]
  },
  {
   "cell_type": "code",
   "execution_count": 10,
   "id": "2cc06418",
   "metadata": {},
   "outputs": [
    {
     "data": {
      "text/plain": [
       "array([<AxesSubplot:xlabel='Date'>, <AxesSubplot:xlabel='Date'>],\n",
       "      dtype=object)"
      ]
     },
     "execution_count": 10,
     "metadata": {},
     "output_type": "execute_result"
    },
    {
     "data": {
      "image/png": "[encoded data removed]",
      "text/plain": [
       "<Figure size 1080x720 with 2 Axes>"
      ]
     },
     "metadata": {
      "needs_background": "light"
     },
     "output_type": "display_data"
    }
   ],
   "source": [
    "data_fisv_adjclose.plot(figsize=(15, 10), subplots=True)"
   ]
  },
  {
   "cell_type": "markdown",
   "id": "2221ed22",
   "metadata": {},
   "source": [
    "#### Step 2-b: Summary Stats on FISV Adj Close Price"
   ]
  },
  {
   "cell_type": "code",
   "execution_count": 11,
   "id": "b33490c0",
   "metadata": {},
   "outputs": [
    {
     "data": {
      "text/html": [
       "<div>\n",
       "<style scoped>\n",
       "    .dataframe tbody tr th:only-of-type {\n",
       "        vertical-align: middle;\n",
       "    }\n",
       "\n",
       "    .dataframe tbody tr th {\n",
       "        vertical-align: top;\n",
       "    }\n",
       "\n",
       "    .dataframe thead th {\n",
       "        text-align: right;\n",
       "    }\n",
       "</style>\n",
       "<table border=\"1\" class=\"dataframe\">\n",
       "  <thead>\n",
       "    <tr style=\"text-align: right;\">\n",
       "      <th></th>\n",
       "      <th>FISV</th>\n",
       "      <th>^VIX</th>\n",
       "    </tr>\n",
       "  </thead>\n",
       "  <tbody>\n",
       "    <tr>\n",
       "      <th>count</th>\n",
       "      <td>274.000</td>\n",
       "      <td>274.000</td>\n",
       "    </tr>\n",
       "    <tr>\n",
       "      <th>mean</th>\n",
       "      <td>112.131</td>\n",
       "      <td>20.990</td>\n",
       "    </tr>\n",
       "    <tr>\n",
       "      <th>std</th>\n",
       "      <td>6.653</td>\n",
       "      <td>4.578</td>\n",
       "    </tr>\n",
       "    <tr>\n",
       "      <th>min</th>\n",
       "      <td>93.520</td>\n",
       "      <td>15.010</td>\n",
       "    </tr>\n",
       "    <tr>\n",
       "      <th>25%</th>\n",
       "      <td>108.483</td>\n",
       "      <td>17.338</td>\n",
       "    </tr>\n",
       "    <tr>\n",
       "      <th>50%</th>\n",
       "      <td>111.355</td>\n",
       "      <td>20.435</td>\n",
       "    </tr>\n",
       "    <tr>\n",
       "      <th>75%</th>\n",
       "      <td>115.770</td>\n",
       "      <td>23.110</td>\n",
       "    </tr>\n",
       "    <tr>\n",
       "      <th>max</th>\n",
       "      <td>126.550</td>\n",
       "      <td>40.280</td>\n",
       "    </tr>\n",
       "  </tbody>\n",
       "</table>\n",
       "</div>"
      ],
      "text/plain": [
       "          FISV     ^VIX\n",
       "count  274.000  274.000\n",
       "mean   112.131   20.990\n",
       "std      6.653    4.578\n",
       "min     93.520   15.010\n",
       "25%    108.483   17.338\n",
       "50%    111.355   20.435\n",
       "75%    115.770   23.110\n",
       "max    126.550   40.280"
      ]
     },
     "execution_count": 11,
     "metadata": {},
     "output_type": "execute_result"
    }
   ],
   "source": [
    "data_fisv_adjclose.describe().round(3)"
   ]
  },
  {
   "cell_type": "markdown",
   "id": "33d8e2ee",
   "metadata": {},
   "source": [
    "#### Step 2-c: Calculate Percentage Change"
   ]
  },
  {
   "cell_type": "code",
   "execution_count": 12,
   "id": "c56639a6",
   "metadata": {},
   "outputs": [
    {
     "data": {
      "text/html": [
       "<div>\n",
       "<style scoped>\n",
       "    .dataframe tbody tr th:only-of-type {\n",
       "        vertical-align: middle;\n",
       "    }\n",
       "\n",
       "    .dataframe tbody tr th {\n",
       "        vertical-align: top;\n",
       "    }\n",
       "\n",
       "    .dataframe thead th {\n",
       "        text-align: right;\n",
       "    }\n",
       "</style>\n",
       "<table border=\"1\" class=\"dataframe\">\n",
       "  <thead>\n",
       "    <tr style=\"text-align: right;\">\n",
       "      <th></th>\n",
       "      <th>FISV</th>\n",
       "      <th>^VIX</th>\n",
       "    </tr>\n",
       "    <tr>\n",
       "      <th>Date</th>\n",
       "      <th></th>\n",
       "      <th></th>\n",
       "    </tr>\n",
       "  </thead>\n",
       "  <tbody>\n",
       "    <tr>\n",
       "      <th>2020-10-01</th>\n",
       "      <td>NaN</td>\n",
       "      <td>NaN</td>\n",
       "    </tr>\n",
       "    <tr>\n",
       "      <th>2020-10-02</th>\n",
       "      <td>-0.0249</td>\n",
       "      <td>0.0348</td>\n",
       "    </tr>\n",
       "    <tr>\n",
       "      <th>2020-10-05</th>\n",
       "      <td>-0.0082</td>\n",
       "      <td>0.0119</td>\n",
       "    </tr>\n",
       "    <tr>\n",
       "      <th>2020-10-06</th>\n",
       "      <td>0.0153</td>\n",
       "      <td>0.0544</td>\n",
       "    </tr>\n",
       "    <tr>\n",
       "      <th>2020-10-07</th>\n",
       "      <td>0.0006</td>\n",
       "      <td>-0.0482</td>\n",
       "    </tr>\n",
       "    <tr>\n",
       "      <th>2020-10-08</th>\n",
       "      <td>0.0095</td>\n",
       "      <td>-0.0606</td>\n",
       "    </tr>\n",
       "    <tr>\n",
       "      <th>2020-10-09</th>\n",
       "      <td>0.0166</td>\n",
       "      <td>-0.0516</td>\n",
       "    </tr>\n",
       "    <tr>\n",
       "      <th>2020-10-12</th>\n",
       "      <td>0.0149</td>\n",
       "      <td>0.0028</td>\n",
       "    </tr>\n",
       "    <tr>\n",
       "      <th>2020-10-13</th>\n",
       "      <td>-0.0180</td>\n",
       "      <td>0.0399</td>\n",
       "    </tr>\n",
       "    <tr>\n",
       "      <th>2020-10-14</th>\n",
       "      <td>-0.0196</td>\n",
       "      <td>0.0127</td>\n",
       "    </tr>\n",
       "    <tr>\n",
       "      <th>2020-10-15</th>\n",
       "      <td>-0.0088</td>\n",
       "      <td>0.0216</td>\n",
       "    </tr>\n",
       "    <tr>\n",
       "      <th>2020-10-16</th>\n",
       "      <td>-0.0058</td>\n",
       "      <td>0.0163</td>\n",
       "    </tr>\n",
       "    <tr>\n",
       "      <th>2020-10-19</th>\n",
       "      <td>-0.0245</td>\n",
       "      <td>0.0646</td>\n",
       "    </tr>\n",
       "    <tr>\n",
       "      <th>2020-10-20</th>\n",
       "      <td>0.0080</td>\n",
       "      <td>0.0058</td>\n",
       "    </tr>\n",
       "  </tbody>\n",
       "</table>\n",
       "</div>"
      ],
      "text/plain": [
       "              FISV    ^VIX\n",
       "Date                      \n",
       "2020-10-01     NaN     NaN\n",
       "2020-10-02 -0.0249  0.0348\n",
       "2020-10-05 -0.0082  0.0119\n",
       "2020-10-06  0.0153  0.0544\n",
       "2020-10-07  0.0006 -0.0482\n",
       "2020-10-08  0.0095 -0.0606\n",
       "2020-10-09  0.0166 -0.0516\n",
       "2020-10-12  0.0149  0.0028\n",
       "2020-10-13 -0.0180  0.0399\n",
       "2020-10-14 -0.0196  0.0127\n",
       "2020-10-15 -0.0088  0.0216\n",
       "2020-10-16 -0.0058  0.0163\n",
       "2020-10-19 -0.0245  0.0646\n",
       "2020-10-20  0.0080  0.0058"
      ]
     },
     "execution_count": 12,
     "metadata": {},
     "output_type": "execute_result"
    }
   ],
   "source": [
    "data_fisv_adjclose.pct_change().round(4).head(14)"
   ]
  },
  {
   "cell_type": "markdown",
   "id": "0ebfd6a3",
   "metadata": {},
   "source": [
    "#### Step 2-d: Calculate Logarithmic (log) Returns"
   ]
  },
  {
   "cell_type": "code",
   "execution_count": 13,
   "id": "0a66f859",
   "metadata": {},
   "outputs": [],
   "source": [
    "retrn = np.log(data_fisv_adjclose / data_fisv_adjclose.shift(1))"
   ]
  },
  {
   "cell_type": "code",
   "execution_count": 14,
   "id": "a211a812",
   "metadata": {},
   "outputs": [
    {
     "data": {
      "text/html": [
       "<div>\n",
       "<style scoped>\n",
       "    .dataframe tbody tr th:only-of-type {\n",
       "        vertical-align: middle;\n",
       "    }\n",
       "\n",
       "    .dataframe tbody tr th {\n",
       "        vertical-align: top;\n",
       "    }\n",
       "\n",
       "    .dataframe thead th {\n",
       "        text-align: right;\n",
       "    }\n",
       "</style>\n",
       "<table border=\"1\" class=\"dataframe\">\n",
       "  <thead>\n",
       "    <tr style=\"text-align: right;\">\n",
       "      <th></th>\n",
       "      <th>FISV</th>\n",
       "      <th>^VIX</th>\n",
       "    </tr>\n",
       "    <tr>\n",
       "      <th>Date</th>\n",
       "      <th></th>\n",
       "      <th></th>\n",
       "    </tr>\n",
       "  </thead>\n",
       "  <tbody>\n",
       "    <tr>\n",
       "      <th>2020-10-01</th>\n",
       "      <td>NaN</td>\n",
       "      <td>NaN</td>\n",
       "    </tr>\n",
       "    <tr>\n",
       "      <th>2020-10-02</th>\n",
       "      <td>-0.0253</td>\n",
       "      <td>0.0342</td>\n",
       "    </tr>\n",
       "    <tr>\n",
       "      <th>2020-10-05</th>\n",
       "      <td>-0.0082</td>\n",
       "      <td>0.0119</td>\n",
       "    </tr>\n",
       "    <tr>\n",
       "      <th>2020-10-06</th>\n",
       "      <td>0.0152</td>\n",
       "      <td>0.0529</td>\n",
       "    </tr>\n",
       "    <tr>\n",
       "      <th>2020-10-07</th>\n",
       "      <td>0.0006</td>\n",
       "      <td>-0.0494</td>\n",
       "    </tr>\n",
       "    <tr>\n",
       "      <th>2020-10-08</th>\n",
       "      <td>0.0094</td>\n",
       "      <td>-0.0625</td>\n",
       "    </tr>\n",
       "    <tr>\n",
       "      <th>2020-10-09</th>\n",
       "      <td>0.0165</td>\n",
       "      <td>-0.0530</td>\n",
       "    </tr>\n",
       "    <tr>\n",
       "      <th>2020-10-12</th>\n",
       "      <td>0.0148</td>\n",
       "      <td>0.0028</td>\n",
       "    </tr>\n",
       "    <tr>\n",
       "      <th>2020-10-13</th>\n",
       "      <td>-0.0182</td>\n",
       "      <td>0.0391</td>\n",
       "    </tr>\n",
       "    <tr>\n",
       "      <th>2020-10-14</th>\n",
       "      <td>-0.0198</td>\n",
       "      <td>0.0126</td>\n",
       "    </tr>\n",
       "    <tr>\n",
       "      <th>2020-10-15</th>\n",
       "      <td>-0.0088</td>\n",
       "      <td>0.0214</td>\n",
       "    </tr>\n",
       "    <tr>\n",
       "      <th>2020-10-16</th>\n",
       "      <td>-0.0058</td>\n",
       "      <td>0.0162</td>\n",
       "    </tr>\n",
       "    <tr>\n",
       "      <th>2020-10-19</th>\n",
       "      <td>-0.0248</td>\n",
       "      <td>0.0626</td>\n",
       "    </tr>\n",
       "    <tr>\n",
       "      <th>2020-10-20</th>\n",
       "      <td>0.0080</td>\n",
       "      <td>0.0058</td>\n",
       "    </tr>\n",
       "  </tbody>\n",
       "</table>\n",
       "</div>"
      ],
      "text/plain": [
       "              FISV    ^VIX\n",
       "Date                      \n",
       "2020-10-01     NaN     NaN\n",
       "2020-10-02 -0.0253  0.0342\n",
       "2020-10-05 -0.0082  0.0119\n",
       "2020-10-06  0.0152  0.0529\n",
       "2020-10-07  0.0006 -0.0494\n",
       "2020-10-08  0.0094 -0.0625\n",
       "2020-10-09  0.0165 -0.0530\n",
       "2020-10-12  0.0148  0.0028\n",
       "2020-10-13 -0.0182  0.0391\n",
       "2020-10-14 -0.0198  0.0126\n",
       "2020-10-15 -0.0088  0.0214\n",
       "2020-10-16 -0.0058  0.0162\n",
       "2020-10-19 -0.0248  0.0626\n",
       "2020-10-20  0.0080  0.0058"
      ]
     },
     "execution_count": 14,
     "metadata": {},
     "output_type": "execute_result"
    }
   ],
   "source": [
    "retrn.head(14).round(4)"
   ]
  },
  {
   "cell_type": "markdown",
   "id": "fee1f3fc",
   "metadata": {},
   "source": [
    "#### Step 2-e: Plot Logarithmic (log) Returns"
   ]
  },
  {
   "cell_type": "code",
   "execution_count": 15,
   "id": "c9119daf",
   "metadata": {},
   "outputs": [
    {
     "data": {
      "image/png": "[encoded data removed]",
      "text/plain": [
       "<Figure size 1080x360 with 1 Axes>"
      ]
     },
     "metadata": {
      "needs_background": "light"
     },
     "output_type": "display_data"
    }
   ],
   "source": [
    "retrn.cumsum().apply(np.exp).plot(figsize=(15, 5));"
   ]
  },
  {
   "cell_type": "markdown",
   "id": "cb88b991",
   "metadata": {},
   "source": [
    "#### Step 2-f: Rolling Statistics"
   ]
  },
  {
   "cell_type": "code",
   "execution_count": 16,
   "id": "4c772fc7",
   "metadata": {},
   "outputs": [
    {
     "data": {
      "text/html": [
       "<div>\n",
       "<style scoped>\n",
       "    .dataframe tbody tr th:only-of-type {\n",
       "        vertical-align: middle;\n",
       "    }\n",
       "\n",
       "    .dataframe tbody tr th {\n",
       "        vertical-align: top;\n",
       "    }\n",
       "\n",
       "    .dataframe thead th {\n",
       "        text-align: right;\n",
       "    }\n",
       "</style>\n",
       "<table border=\"1\" class=\"dataframe\">\n",
       "  <thead>\n",
       "    <tr style=\"text-align: right;\">\n",
       "      <th></th>\n",
       "      <th>FISV</th>\n",
       "    </tr>\n",
       "    <tr>\n",
       "      <th>Date</th>\n",
       "      <th></th>\n",
       "    </tr>\n",
       "  </thead>\n",
       "  <tbody>\n",
       "    <tr>\n",
       "      <th>2021-10-13</th>\n",
       "      <td>104.339996</td>\n",
       "    </tr>\n",
       "    <tr>\n",
       "      <th>2021-10-14</th>\n",
       "      <td>107.779999</td>\n",
       "    </tr>\n",
       "    <tr>\n",
       "      <th>2021-10-15</th>\n",
       "      <td>109.800003</td>\n",
       "    </tr>\n",
       "    <tr>\n",
       "      <th>2021-10-18</th>\n",
       "      <td>110.010002</td>\n",
       "    </tr>\n",
       "    <tr>\n",
       "      <th>2021-10-19</th>\n",
       "      <td>111.290001</td>\n",
       "    </tr>\n",
       "    <tr>\n",
       "      <th>2021-10-20</th>\n",
       "      <td>110.110001</td>\n",
       "    </tr>\n",
       "    <tr>\n",
       "      <th>2021-10-21</th>\n",
       "      <td>110.160004</td>\n",
       "    </tr>\n",
       "    <tr>\n",
       "      <th>2021-10-22</th>\n",
       "      <td>110.180000</td>\n",
       "    </tr>\n",
       "    <tr>\n",
       "      <th>2021-10-25</th>\n",
       "      <td>111.110001</td>\n",
       "    </tr>\n",
       "    <tr>\n",
       "      <th>2021-10-26</th>\n",
       "      <td>109.839996</td>\n",
       "    </tr>\n",
       "    <tr>\n",
       "      <th>2021-10-27</th>\n",
       "      <td>98.830002</td>\n",
       "    </tr>\n",
       "    <tr>\n",
       "      <th>2021-10-28</th>\n",
       "      <td>98.529999</td>\n",
       "    </tr>\n",
       "    <tr>\n",
       "      <th>2021-10-29</th>\n",
       "      <td>98.489998</td>\n",
       "    </tr>\n",
       "    <tr>\n",
       "      <th>2021-11-01</th>\n",
       "      <td>101.989998</td>\n",
       "    </tr>\n",
       "  </tbody>\n",
       "</table>\n",
       "</div>"
      ],
      "text/plain": [
       "                  FISV\n",
       "Date                  \n",
       "2021-10-13  104.339996\n",
       "2021-10-14  107.779999\n",
       "2021-10-15  109.800003\n",
       "2021-10-18  110.010002\n",
       "2021-10-19  111.290001\n",
       "2021-10-20  110.110001\n",
       "2021-10-21  110.160004\n",
       "2021-10-22  110.180000\n",
       "2021-10-25  111.110001\n",
       "2021-10-26  109.839996\n",
       "2021-10-27   98.830002\n",
       "2021-10-28   98.529999\n",
       "2021-10-29   98.489998\n",
       "2021-11-01  101.989998"
      ]
     },
     "execution_count": 16,
     "metadata": {},
     "output_type": "execute_result"
    }
   ],
   "source": [
    "sym = 'FISV'\n",
    "fisv_data = pd.DataFrame(data_fisv_adjclose[sym]).dropna()\n",
    "fisv_data.tail(14)"
   ]
  },
  {
   "cell_type": "code",
   "execution_count": 17,
   "id": "58c616d8",
   "metadata": {},
   "outputs": [
    {
     "data": {
      "text/html": [
       "<div>\n",
       "<style scoped>\n",
       "    .dataframe tbody tr th:only-of-type {\n",
       "        vertical-align: middle;\n",
       "    }\n",
       "\n",
       "    .dataframe tbody tr th {\n",
       "        vertical-align: top;\n",
       "    }\n",
       "\n",
       "    .dataframe thead th {\n",
       "        text-align: right;\n",
       "    }\n",
       "</style>\n",
       "<table border=\"1\" class=\"dataframe\">\n",
       "  <thead>\n",
       "    <tr style=\"text-align: right;\">\n",
       "      <th></th>\n",
       "      <th>FISV</th>\n",
       "      <th>min</th>\n",
       "      <th>mean</th>\n",
       "      <th>std</th>\n",
       "      <th>median</th>\n",
       "      <th>max</th>\n",
       "      <th>ewma</th>\n",
       "    </tr>\n",
       "    <tr>\n",
       "      <th>Date</th>\n",
       "      <th></th>\n",
       "      <th></th>\n",
       "      <th></th>\n",
       "      <th></th>\n",
       "      <th></th>\n",
       "      <th></th>\n",
       "      <th></th>\n",
       "    </tr>\n",
       "  </thead>\n",
       "  <tbody>\n",
       "    <tr>\n",
       "      <th>2020-10-14</th>\n",
       "      <td>102.709999</td>\n",
       "      <td>100.820000</td>\n",
       "      <td>103.415</td>\n",
       "      <td>1.779184</td>\n",
       "      <td>103.049999</td>\n",
       "      <td>106.68</td>\n",
       "      <td>103.310216</td>\n",
       "    </tr>\n",
       "    <tr>\n",
       "      <th>2020-10-15</th>\n",
       "      <td>101.809998</td>\n",
       "      <td>100.820000</td>\n",
       "      <td>103.171</td>\n",
       "      <td>1.818819</td>\n",
       "      <td>102.564999</td>\n",
       "      <td>106.68</td>\n",
       "      <td>102.185052</td>\n",
       "    </tr>\n",
       "    <tr>\n",
       "      <th>2020-10-16</th>\n",
       "      <td>101.220001</td>\n",
       "      <td>100.820000</td>\n",
       "      <td>103.128</td>\n",
       "      <td>1.863312</td>\n",
       "      <td>102.564999</td>\n",
       "      <td>106.68</td>\n",
       "      <td>101.461264</td>\n",
       "    </tr>\n",
       "    <tr>\n",
       "      <th>2020-10-19</th>\n",
       "      <td>98.739998</td>\n",
       "      <td>98.739998</td>\n",
       "      <td>102.920</td>\n",
       "      <td>2.229659</td>\n",
       "      <td>102.564999</td>\n",
       "      <td>106.68</td>\n",
       "      <td>99.420314</td>\n",
       "    </tr>\n",
       "    <tr>\n",
       "      <th>2020-10-20</th>\n",
       "      <td>99.529999</td>\n",
       "      <td>98.739998</td>\n",
       "      <td>102.637</td>\n",
       "      <td>2.474763</td>\n",
       "      <td>102.564999</td>\n",
       "      <td>106.68</td>\n",
       "      <td>99.502578</td>\n",
       "    </tr>\n",
       "  </tbody>\n",
       "</table>\n",
       "</div>"
      ],
      "text/plain": [
       "                  FISV         min     mean       std      median     max  \\\n",
       "Date                                                                        \n",
       "2020-10-14  102.709999  100.820000  103.415  1.779184  103.049999  106.68   \n",
       "2020-10-15  101.809998  100.820000  103.171  1.818819  102.564999  106.68   \n",
       "2020-10-16  101.220001  100.820000  103.128  1.863312  102.564999  106.68   \n",
       "2020-10-19   98.739998   98.739998  102.920  2.229659  102.564999  106.68   \n",
       "2020-10-20   99.529999   98.739998  102.637  2.474763  102.564999  106.68   \n",
       "\n",
       "                  ewma  \n",
       "Date                    \n",
       "2020-10-14  103.310216  \n",
       "2020-10-15  102.185052  \n",
       "2020-10-16  101.461264  \n",
       "2020-10-19   99.420314  \n",
       "2020-10-20   99.502578  "
      ]
     },
     "execution_count": 17,
     "metadata": {},
     "output_type": "execute_result"
    }
   ],
   "source": [
    "window = 10\n",
    "fisv_data['min'] = data_fisv_adjclose[sym].rolling(window=window).min()\n",
    "fisv_data['mean'] = data_fisv_adjclose[sym].rolling(window=window).mean()\n",
    "fisv_data['std'] = data_fisv_adjclose[sym].rolling(window=window).std()\n",
    "fisv_data['median'] = data_fisv_adjclose[sym].rolling(window=window).median()\n",
    "fisv_data['max'] = data_fisv_adjclose[sym].rolling(window=window).max()\n",
    "fisv_data['ewma'] = data_fisv_adjclose[sym].ewm(halflife=0.5, min_periods=window).mean()\n",
    "fisv_data.dropna().head()"
   ]
  },
  {
   "cell_type": "code",
   "execution_count": 18,
   "id": "bf29ba76",
   "metadata": {},
   "outputs": [
    {
     "data": {
      "image/png": "[encoded data removed]",
      "text/plain": [
       "<Figure size 1080x504 with 1 Axes>"
      ]
     },
     "metadata": {
      "needs_background": "light"
     },
     "output_type": "display_data"
    }
   ],
   "source": [
    "ax = fisv_data[['min', 'mean', 'max']].iloc[-200:].plot(figsize=(15, 7), style=['g--', 'y--', 'r--'], lw=0.8)\n",
    "data_fisv_adjclose[sym].iloc[-200:].plot(ax=ax, lw=2.0);"
   ]
  },
  {
   "cell_type": "markdown",
   "id": "23d98e8a",
   "metadata": {},
   "source": [
    "#### Step 2-g:  Simple Moving Averages (SMAs)"
   ]
  },
  {
   "cell_type": "code",
   "execution_count": 19,
   "id": "45899995",
   "metadata": {},
   "outputs": [
    {
     "data": {
      "text/html": [
       "<div>\n",
       "<style scoped>\n",
       "    .dataframe tbody tr th:only-of-type {\n",
       "        vertical-align: middle;\n",
       "    }\n",
       "\n",
       "    .dataframe tbody tr th {\n",
       "        vertical-align: top;\n",
       "    }\n",
       "\n",
       "    .dataframe thead th {\n",
       "        text-align: right;\n",
       "    }\n",
       "</style>\n",
       "<table border=\"1\" class=\"dataframe\">\n",
       "  <thead>\n",
       "    <tr style=\"text-align: right;\">\n",
       "      <th></th>\n",
       "      <th>FISV</th>\n",
       "      <th>SMA1</th>\n",
       "      <th>SMA2</th>\n",
       "    </tr>\n",
       "    <tr>\n",
       "      <th>Date</th>\n",
       "      <th></th>\n",
       "      <th></th>\n",
       "      <th></th>\n",
       "    </tr>\n",
       "  </thead>\n",
       "  <tbody>\n",
       "    <tr>\n",
       "      <th>2021-10-13</th>\n",
       "      <td>104.339996</td>\n",
       "      <td>108.0560</td>\n",
       "      <td>111.605834</td>\n",
       "    </tr>\n",
       "    <tr>\n",
       "      <th>2021-10-14</th>\n",
       "      <td>107.779999</td>\n",
       "      <td>108.0175</td>\n",
       "      <td>111.568167</td>\n",
       "    </tr>\n",
       "    <tr>\n",
       "      <th>2021-10-15</th>\n",
       "      <td>109.800003</td>\n",
       "      <td>108.0765</td>\n",
       "      <td>111.564000</td>\n",
       "    </tr>\n",
       "    <tr>\n",
       "      <th>2021-10-18</th>\n",
       "      <td>110.010002</td>\n",
       "      <td>108.2105</td>\n",
       "      <td>111.534334</td>\n",
       "    </tr>\n",
       "    <tr>\n",
       "      <th>2021-10-19</th>\n",
       "      <td>111.290001</td>\n",
       "      <td>108.4645</td>\n",
       "      <td>111.533334</td>\n",
       "    </tr>\n",
       "    <tr>\n",
       "      <th>2021-10-20</th>\n",
       "      <td>110.110001</td>\n",
       "      <td>108.5355</td>\n",
       "      <td>111.457167</td>\n",
       "    </tr>\n",
       "    <tr>\n",
       "      <th>2021-10-21</th>\n",
       "      <td>110.160004</td>\n",
       "      <td>108.5315</td>\n",
       "      <td>111.394667</td>\n",
       "    </tr>\n",
       "    <tr>\n",
       "      <th>2021-10-22</th>\n",
       "      <td>110.180000</td>\n",
       "      <td>108.5535</td>\n",
       "      <td>111.323334</td>\n",
       "    </tr>\n",
       "    <tr>\n",
       "      <th>2021-10-25</th>\n",
       "      <td>111.110001</td>\n",
       "      <td>108.6520</td>\n",
       "      <td>111.256667</td>\n",
       "    </tr>\n",
       "    <tr>\n",
       "      <th>2021-10-26</th>\n",
       "      <td>109.839996</td>\n",
       "      <td>108.6775</td>\n",
       "      <td>111.258167</td>\n",
       "    </tr>\n",
       "    <tr>\n",
       "      <th>2021-10-27</th>\n",
       "      <td>98.830002</td>\n",
       "      <td>108.0855</td>\n",
       "      <td>111.102000</td>\n",
       "    </tr>\n",
       "    <tr>\n",
       "      <th>2021-10-28</th>\n",
       "      <td>98.529999</td>\n",
       "      <td>107.5870</td>\n",
       "      <td>110.931834</td>\n",
       "    </tr>\n",
       "    <tr>\n",
       "      <th>2021-10-29</th>\n",
       "      <td>98.489998</td>\n",
       "      <td>107.0225</td>\n",
       "      <td>110.746000</td>\n",
       "    </tr>\n",
       "    <tr>\n",
       "      <th>2021-11-01</th>\n",
       "      <td>101.989998</td>\n",
       "      <td>106.7090</td>\n",
       "      <td>110.597667</td>\n",
       "    </tr>\n",
       "  </tbody>\n",
       "</table>\n",
       "</div>"
      ],
      "text/plain": [
       "                  FISV      SMA1        SMA2\n",
       "Date                                        \n",
       "2021-10-13  104.339996  108.0560  111.605834\n",
       "2021-10-14  107.779999  108.0175  111.568167\n",
       "2021-10-15  109.800003  108.0765  111.564000\n",
       "2021-10-18  110.010002  108.2105  111.534334\n",
       "2021-10-19  111.290001  108.4645  111.533334\n",
       "2021-10-20  110.110001  108.5355  111.457167\n",
       "2021-10-21  110.160004  108.5315  111.394667\n",
       "2021-10-22  110.180000  108.5535  111.323334\n",
       "2021-10-25  111.110001  108.6520  111.256667\n",
       "2021-10-26  109.839996  108.6775  111.258167\n",
       "2021-10-27   98.830002  108.0855  111.102000\n",
       "2021-10-28   98.529999  107.5870  110.931834\n",
       "2021-10-29   98.489998  107.0225  110.746000\n",
       "2021-11-01  101.989998  106.7090  110.597667"
      ]
     },
     "execution_count": 19,
     "metadata": {},
     "output_type": "execute_result"
    }
   ],
   "source": [
    "fisv_data['SMA1'] = data_fisv_adjclose[sym].rolling(window=20).mean()\n",
    "fisv_data['SMA2'] = data_fisv_adjclose[sym].rolling(window=60).mean()\n",
    "fisv_data[[sym, 'SMA1', 'SMA2']].tail(14)"
   ]
  },
  {
   "cell_type": "code",
   "execution_count": 20,
   "id": "ce4f13f6",
   "metadata": {},
   "outputs": [
    {
     "data": {
      "text/plain": [
       "<AxesSubplot:xlabel='Date'>"
      ]
     },
     "execution_count": 20,
     "metadata": {},
     "output_type": "execute_result"
    },
    {
     "data": {
      "image/png": "[encoded data removed]",
      "text/plain": [
       "<Figure size 1080x504 with 1 Axes>"
      ]
     },
     "metadata": {
      "needs_background": "light"
     },
     "output_type": "display_data"
    }
   ],
   "source": [
    "fisv_data[[sym, 'SMA1', 'SMA2']].plot(figsize=(15, 7))"
   ]
  },
  {
   "cell_type": "markdown",
   "id": "b796fd02",
   "metadata": {},
   "source": [
    "### Step 3: FISV Volatility"
   ]
  },
  {
   "cell_type": "code",
   "execution_count": 21,
   "id": "b8e26778",
   "metadata": {},
   "outputs": [
    {
     "name": "stdout",
     "output_type": "stream",
     "text": [
      "Annualised volatility for FISV equals 25.67 %\n"
     ]
    }
   ],
   "source": [
    "FISV_vol = retrn['FISV']\n",
    "vol = np.sqrt(252)*FISV_vol.std()\n",
    "print(\"Annualised volatility for FISV equals\",round(vol*100,2),\"%\")"
   ]
  },
  {
   "cell_type": "markdown",
   "id": "6cd678e4",
   "metadata": {},
   "source": [
    "### Step 4: Option Pricing Methodology 1 - Binomial Tree"
   ]
  },
  {
   "cell_type": "markdown",
   "id": "7c7eccae",
   "metadata": {},
   "source": [
    "#### Step 4-a: Input Data"
   ]
  },
  {
   "cell_type": "code",
   "execution_count": 22,
   "id": "3151303b",
   "metadata": {},
   "outputs": [
    {
     "name": "stdout",
     "output_type": "stream",
     "text": [
      "FISV Spot Price equals $101.99\n"
     ]
    }
   ],
   "source": [
    "FISV = data_fisv_adjclose['FISV']\n",
    "S0 = FISV[-1]        # spot stock price\n",
    "print('FISV Spot Price equals $' + str(round(S0,2)))"
   ]
  },
  {
   "cell_type": "code",
   "execution_count": 23,
   "id": "d99f9a90",
   "metadata": {},
   "outputs": [],
   "source": [
    "S0 = FISV[-1]        # spot price\n",
    "K = 110.00           # strike price\n",
    "T = 1.0              # maturity time\n",
    "r = 0.0136           # risk free rate \n",
    "sig = 0.2567         # diffusion coefficient or annualised volatility\n",
    "N = 5                # number of periods or number of time steps  \n",
    "payoff = \"Call\"      # payoff"
   ]
  },
  {
   "cell_type": "markdown",
   "id": "1f64f146",
   "metadata": {},
   "source": [
    "#### Step 4-b: Create Binomial Price Tree"
   ]
  },
  {
   "cell_type": "code",
   "execution_count": 24,
   "id": "c1811a2e",
   "metadata": {},
   "outputs": [],
   "source": [
    "dT = float(T) / N                             # Delta t\n",
    "u = np.exp(sig * np.sqrt(dT))                 # up factor\n",
    "d = 1.0 / u  "
   ]
  },
  {
   "cell_type": "code",
   "execution_count": 25,
   "id": "2104f76d",
   "metadata": {},
   "outputs": [
    {
     "data": {
      "text/plain": [
       "array([[101.98999786, 114.39695692, 128.31320745, 143.92235291,\n",
       "        161.4303319 , 181.06813523],\n",
       "       [  0.        ,  90.92863957, 101.98999786, 114.39695692,\n",
       "        128.31320745, 143.92235291],\n",
       "       [  0.        ,   0.        ,  81.06694448,  90.92863957,\n",
       "        101.98999786, 114.39695692],\n",
       "       [  0.        ,   0.        ,   0.        ,  72.27480273,\n",
       "         81.06694448,  90.92863957],\n",
       "       [  0.        ,   0.        ,   0.        ,   0.        ,\n",
       "         64.43621556,  72.27480273],\n",
       "       [  0.        ,   0.        ,   0.        ,   0.        ,\n",
       "          0.        ,  57.44776491]])"
      ]
     },
     "execution_count": 25,
     "metadata": {},
     "output_type": "execute_result"
    }
   ],
   "source": [
    "S = np.zeros((N + 1, N + 1))\n",
    "S[0, 0] = S0\n",
    "z = 1\n",
    "for t in range(1, N + 1):\n",
    "    for i in range(z):\n",
    "        S[i, t] = S[i, t-1] * u\n",
    "        S[i+1, t] = S[i, t-1] * d\n",
    "    z += 1\n",
    "S"
   ]
  },
  {
   "cell_type": "code",
   "execution_count": 26,
   "id": "b63c9e56",
   "metadata": {},
   "outputs": [
    {
     "data": {
      "text/plain": [
       "0.483168372902796"
      ]
     },
     "execution_count": 26,
     "metadata": {},
     "output_type": "execute_result"
    }
   ],
   "source": [
    "a = np.exp(r * dT)    # risk free compound return\n",
    "p = (a - d)/ (u - d)  # risk neutral up probability\n",
    "q = 1.0 - p           # risk neutral down probability\n",
    "p"
   ]
  },
  {
   "cell_type": "markdown",
   "id": "25353d7a",
   "metadata": {},
   "source": [
    "#### Step 4-c: Find option value at each final node"
   ]
  },
  {
   "cell_type": "code",
   "execution_count": 27,
   "id": "0d43e682",
   "metadata": {},
   "outputs": [
    {
     "data": {
      "text/plain": [
       "array([[ 0.        ,  0.        ,  0.        ,  0.        ,  0.        ,\n",
       "        71.06813523],\n",
       "       [ 0.        ,  0.        ,  0.        ,  0.        ,  0.        ,\n",
       "        33.92235291],\n",
       "       [ 0.        ,  0.        ,  0.        ,  0.        ,  0.        ,\n",
       "         4.39695692],\n",
       "       [ 0.        ,  0.        ,  0.        ,  0.        ,  0.        ,\n",
       "         0.        ],\n",
       "       [ 0.        ,  0.        ,  0.        ,  0.        ,  0.        ,\n",
       "         0.        ],\n",
       "       [ 0.        ,  0.        ,  0.        ,  0.        ,  0.        ,\n",
       "         0.        ]])"
      ]
     },
     "execution_count": 27,
     "metadata": {},
     "output_type": "execute_result"
    }
   ],
   "source": [
    "S_T = S[:,-1]\n",
    "V = np.zeros((N + 1, N + 1))\n",
    "V[:,-1] = np.maximum(S_T-K, 0.0)\n",
    "V"
   ]
  },
  {
   "cell_type": "markdown",
   "id": "e480b30f",
   "metadata": {},
   "source": [
    "#### Step 4-d: Find American option value at earlier nodes"
   ]
  },
  {
   "cell_type": "code",
   "execution_count": 28,
   "id": "16333472",
   "metadata": {},
   "outputs": [
    {
     "data": {
      "text/plain": [
       "array([[ 7.86596385, 13.28325999, 21.8186254 , 34.5191282 , 51.72912536,\n",
       "        71.06813523],\n",
       "       [ 0.        ,  2.8429709 ,  5.37383891, 10.06033989, 18.61200091,\n",
       "        33.92235291],\n",
       "       [ 0.        ,  0.        ,  0.49193063,  1.02090809,  2.11869981,\n",
       "         4.39695692],\n",
       "       [ 0.        ,  0.        ,  0.        ,  0.        ,  0.        ,\n",
       "         0.        ],\n",
       "       [ 0.        ,  0.        ,  0.        ,  0.        ,  0.        ,\n",
       "         0.        ],\n",
       "       [ 0.        ,  0.        ,  0.        ,  0.        ,  0.        ,\n",
       "         0.        ]])"
      ]
     },
     "execution_count": 28,
     "metadata": {},
     "output_type": "execute_result"
    }
   ],
   "source": [
    "for j in range(N-1, -1, -1):\n",
    "        for i in range(j+1):\n",
    "            V[i,j] = np.maximum(S[i,j] - K,np.exp(-r*dT) * (p * V[i,j + 1] + q * V[i + 1,j + 1]))\n",
    "V"
   ]
  },
  {
   "cell_type": "code",
   "execution_count": 29,
   "id": "9f62247f",
   "metadata": {},
   "outputs": [
    {
     "name": "stdout",
     "output_type": "stream",
     "text": [
      "American \u001b[1mCall\u001b[0m Option Price based on \u001b[1mBinomial Tree \u001b[0mEquals $7.87\n"
     ]
    }
   ],
   "source": [
    "print('American ' +'\\033[1m'+ payoff +'\\033[0m'\n",
    "      + ' Option Price based on '\n",
    "      +'\\033[1m'+'Binomial Tree '+'\\033[0m' +'Equals $' + str(round(V[0,0],2))) "
   ]
  },
  {
   "cell_type": "markdown",
   "id": "5f7c792e",
   "metadata": {},
   "source": [
    "### Step 5: Option Pricing Methodology 2 - Monte Carlo Simulation"
   ]
  },
  {
   "cell_type": "code",
   "execution_count": 30,
   "id": "4a2644b0",
   "metadata": {},
   "outputs": [],
   "source": [
    "def mcs_simulation_np(p):\n",
    "    M = p\n",
    "    I = p\n",
    "    dt = T / M \n",
    "    S = np.zeros((M + 1, I))\n",
    "    S[0] = S0 \n",
    "    rn = np.random.standard_normal(S.shape) \n",
    "    for t in range(1, M + 1): \n",
    "        S[t] = S[t-1] * np.exp((r - sigma ** 2 / 2) * dt + sigma * np.sqrt(dt) * rn[t]) \n",
    "    return S"
   ]
  },
  {
   "cell_type": "code",
   "execution_count": 31,
   "id": "9b4c6938",
   "metadata": {},
   "outputs": [],
   "source": [
    "T = 1.0\n",
    "r = 0.0136\n",
    "sigma = 0.2567\n",
    "S0 = FISV[-1]\n",
    "K = 110"
   ]
  },
  {
   "cell_type": "code",
   "execution_count": 32,
   "id": "a7635170",
   "metadata": {},
   "outputs": [],
   "source": [
    "S = mcs_simulation_np(1000)"
   ]
  },
  {
   "cell_type": "code",
   "execution_count": 33,
   "id": "0a3f3853",
   "metadata": {},
   "outputs": [
    {
     "data": {
      "text/plain": [
       "array([[101.98999786, 101.65257367, 100.76698863, ...,  98.03777657,\n",
       "         98.69351698,  99.49973962],\n",
       "       [101.98999786, 102.12549747, 101.45516033, ...,  62.33771262,\n",
       "         62.1021253 ,  61.89305898],\n",
       "       [101.98999786, 102.52722508, 104.48897296, ...,  81.58442566,\n",
       "         81.64133031,  80.69082874],\n",
       "       ...,\n",
       "       [101.98999786, 103.27588523, 102.82054712, ...,  89.27140664,\n",
       "         88.47241748,  87.84709674],\n",
       "       [101.98999786, 102.28262667, 102.02708173, ..., 116.88393565,\n",
       "        117.9006417 , 118.94738395],\n",
       "       [101.98999786, 101.80489009, 102.99469079, ..., 162.23209895,\n",
       "        160.44649005, 161.8368626 ]])"
      ]
     },
     "execution_count": 33,
     "metadata": {},
     "output_type": "execute_result"
    }
   ],
   "source": [
    "S = np.transpose(S)\n",
    "S"
   ]
  },
  {
   "cell_type": "code",
   "execution_count": 34,
   "id": "f82a1a85",
   "metadata": {},
   "outputs": [
    {
     "data": {
      "text/plain": [
       "Text(0.5, 1.0, 'Frequency distribution of the simulated end-of-period values')"
      ]
     },
     "execution_count": 34,
     "metadata": {},
     "output_type": "execute_result"
    },
    {
     "data": {
      "image/png": "[encoded data removed]",
      "text/plain": [
       "<Figure size 432x288 with 1 Axes>"
      ]
     },
     "metadata": {
      "needs_background": "light"
     },
     "output_type": "display_data"
    }
   ],
   "source": [
    "import matplotlib.pyplot as plt\n",
    "n, bins, patches = plt.hist(x=S[:,-1], bins='auto', color='#0504aa',alpha=0.6, rwidth=0.85)\n",
    "\n",
    "plt.grid(axis='y', alpha=0.9)\n",
    "plt.xlabel('S_T')\n",
    "plt.ylabel('Frequency')\n",
    "plt.axvline(S.mean(), color='y', linestyle='dashed', linewidth=1.3)\n",
    "plt.title('Frequency distribution of the simulated end-of-period values')"
   ]
  },
  {
   "cell_type": "code",
   "execution_count": 35,
   "id": "7539836d",
   "metadata": {},
   "outputs": [
    {
     "name": "stdout",
     "output_type": "stream",
     "text": [
      "American \u001b[1mCall\u001b[0m Option Price based on \u001b[1mMonte Carlo Simulation \u001b[0mEquals $\u001b[1m8.92\u001b[0m\n"
     ]
    }
   ],
   "source": [
    "c = np.mean(np.maximum(S[:,-1] - K,0))\n",
    "print('American ' +'\\033[1m'+ payoff +'\\033[0m' \n",
    "      +' Option Price based on '\n",
    "      +'\\033[1m'+ 'Monte Carlo Simulation '+'\\033[0m'\n",
    "      +'Equals $' \n",
    "      +'\\033[1m'+ str(round(c,2))+'\\033[0m')"
   ]
  },
  {
   "cell_type": "markdown",
   "id": "b4030728",
   "metadata": {},
   "source": [
    "### Step 6: Greeks Analysis"
   ]
  },
  {
   "cell_type": "markdown",
   "id": "1117c481",
   "metadata": {},
   "source": [
    "### Step 6-a: Delta"
   ]
  },
  {
   "cell_type": "code",
   "execution_count": 36,
   "id": "20fb6a17",
   "metadata": {},
   "outputs": [],
   "source": [
    "def delta(S, K, T, r, q, vol, payoff):\n",
    "    \n",
    "    d1 = (np.log(S / K) + (r - q + 0.5 * vol ** 2) * T) / (vol * np.sqrt(T))\n",
    "    if payoff == \"call\":\n",
    "        delta = np.exp(-q * T) * si.norm.cdf(d1, 0.0, 1.0)\n",
    "    elif payoff == \"put\":\n",
    "        delta =  - np.exp(-q * T) * si.norm.cdf(-d1, 0.0, 1.0)\n",
    "    \n",
    "    return delta"
   ]
  },
  {
   "cell_type": "code",
   "execution_count": 37,
   "id": "b0b60afe",
   "metadata": {},
   "outputs": [
    {
     "data": {
      "text/plain": [
       "0.4549364432876727"
      ]
     },
     "execution_count": 37,
     "metadata": {},
     "output_type": "execute_result"
    }
   ],
   "source": [
    "delta(101.99, 110, 1, 0.0136, 0, 0.2567, 'call')"
   ]
  },
  {
   "cell_type": "code",
   "execution_count": 38,
   "id": "30906876",
   "metadata": {},
   "outputs": [],
   "source": [
    "S = np.linspace(50,200,20)\n",
    "Delta_Call = np.zeros((len(S),1))\n",
    "for i in range(len(S)):\n",
    "    Delta_Call [i] = delta(S[i], 110, 1, 0.0136, 0, 0.2567, 'call')"
   ]
  },
  {
   "cell_type": "code",
   "execution_count": 39,
   "id": "434d77aa",
   "metadata": {},
   "outputs": [
    {
     "data": {
      "text/plain": [
       "<matplotlib.legend.Legend at 0x271bd15c070>"
      ]
     },
     "execution_count": 39,
     "metadata": {},
     "output_type": "execute_result"
    },
    {
     "data": {
      "image/png": "[encoded data removed]",
      "text/plain": [
       "<Figure size 432x288 with 1 Axes>"
      ]
     },
     "metadata": {
      "needs_background": "light"
     },
     "output_type": "display_data"
    }
   ],
   "source": [
    "fig = plt.figure()\n",
    "plt.plot(S, Delta_Call, '-')\n",
    "plt.grid()\n",
    "plt.xlabel('Stock Price')\n",
    "plt.ylabel('Delta')\n",
    "plt.title('Delta')\n",
    "plt.legend(['Delta for Call'])"
   ]
  },
  {
   "cell_type": "markdown",
   "id": "21e60152",
   "metadata": {},
   "source": [
    "### Step 6-b: Gamma"
   ]
  },
  {
   "cell_type": "code",
   "execution_count": 40,
   "id": "cb5d7b5b",
   "metadata": {},
   "outputs": [],
   "source": [
    "def gamma(S, K, T, r, q, vol, payoff):\n",
    "    \n",
    "    d1 = (np.log(S / K) + (r - q + 0.5 * vol ** 2) * T) / (vol * np.sqrt(T))\n",
    "    gamma = np.exp(- q * T) * si.norm.pdf(d1, 0.0, 1.0) / (vol * S * np.sqrt(T))\n",
    "    \n",
    "    return gamma"
   ]
  },
  {
   "cell_type": "code",
   "execution_count": 41,
   "id": "3f518016",
   "metadata": {},
   "outputs": [
    {
     "data": {
      "text/plain": [
       "0.015140634785364076"
      ]
     },
     "execution_count": 41,
     "metadata": {},
     "output_type": "execute_result"
    }
   ],
   "source": [
    "gamma(101.99, 110, 1, 0.0136, 0, 0.2567, 'call')"
   ]
  },
  {
   "cell_type": "code",
   "execution_count": 42,
   "id": "30a7d277",
   "metadata": {},
   "outputs": [],
   "source": [
    "S = np.linspace(50,200,20)\n",
    "Gamma = np.zeros((len(S),1))\n",
    "for i in range(len(S)):\n",
    "    Gamma [i] = gamma(S[i], 110, 1, 0.0136, 0, 0.2567, 'call')"
   ]
  },
  {
   "cell_type": "code",
   "execution_count": 43,
   "id": "ffa89896",
   "metadata": {},
   "outputs": [
    {
     "data": {
      "text/plain": [
       "<matplotlib.legend.Legend at 0x271bd228c10>"
      ]
     },
     "execution_count": 43,
     "metadata": {},
     "output_type": "execute_result"
    },
    {
     "data": {
      "image/png": "[encoded data removed]",
      "text/plain": [
       "<Figure size 432x288 with 1 Axes>"
      ]
     },
     "metadata": {
      "needs_background": "light"
     },
     "output_type": "display_data"
    }
   ],
   "source": [
    "fig = plt.figure()\n",
    "plt.plot(S, Gamma, '-')\n",
    "plt.grid()\n",
    "plt.xlabel('Stock Price')\n",
    "plt.ylabel('Gamma')\n",
    "plt.title('Gamma')\n",
    "plt.legend(['Gamma for Call'])"
   ]
  },
  {
   "cell_type": "markdown",
   "id": "8545284b",
   "metadata": {},
   "source": [
    "### Step 6-c: Speed"
   ]
  },
  {
   "cell_type": "code",
   "execution_count": 44,
   "id": "39f46ef3",
   "metadata": {},
   "outputs": [],
   "source": [
    "def speed(S, K, T, r, q, vol, payoff):\n",
    "    \n",
    "    d1 = (np.log(S / K) + (r - q + 0.5 * vol ** 2) * T) / (vol * np.sqrt(T))\n",
    "    speed = - np.exp(-q * T) * si.norm.pdf(d1, 0.0, 1.0) / ((vol **2) * (S**2) * np.sqrt(T)) * (d1 + vol * np.sqrt(T))\n",
    "    \n",
    "    return speed"
   ]
  },
  {
   "cell_type": "code",
   "execution_count": 45,
   "id": "eb01015a",
   "metadata": {},
   "outputs": [
    {
     "data": {
      "text/plain": [
       "-8.298811982749997e-05"
      ]
     },
     "execution_count": 45,
     "metadata": {},
     "output_type": "execute_result"
    }
   ],
   "source": [
    "speed(101.99, 110, 1, 0.0136, 0, 0.2567, 'call')"
   ]
  },
  {
   "cell_type": "code",
   "execution_count": 46,
   "id": "6ec490a1",
   "metadata": {},
   "outputs": [],
   "source": [
    "S = np.linspace(50,150,15)\n",
    "Speed = np.zeros((len(S),1))\n",
    "for i in range(len(S)):\n",
    "    Speed [i] = speed(S[i], 100, 1, 0.05, 0.03, 0.25, 'call')"
   ]
  },
  {
   "cell_type": "code",
   "execution_count": 47,
   "id": "0a05872e",
   "metadata": {},
   "outputs": [
    {
     "data": {
      "text/plain": [
       "<matplotlib.legend.Legend at 0x271bd29f2b0>"
      ]
     },
     "execution_count": 47,
     "metadata": {},
     "output_type": "execute_result"
    },
    {
     "data": {
      "image/png": "[encoded data removed]",
      "text/plain": [
       "<Figure size 432x288 with 1 Axes>"
      ]
     },
     "metadata": {
      "needs_background": "light"
     },
     "output_type": "display_data"
    }
   ],
   "source": [
    "fig = plt.figure()\n",
    "plt.plot(S, Speed, '-')\n",
    "plt.grid()\n",
    "plt.xlabel('Stock Price')\n",
    "plt.ylabel('Speed')\n",
    "plt.title('Speed')\n",
    "plt.legend(['Speed for Call'])"
   ]
  },
  {
   "cell_type": "markdown",
   "id": "ede52f79",
   "metadata": {},
   "source": [
    "### Step 6-d: Theta"
   ]
  },
  {
   "cell_type": "code",
   "execution_count": 48,
   "id": "23d0a279",
   "metadata": {},
   "outputs": [],
   "source": [
    "def theta(S, K, T, r, q, vol, payoff):\n",
    "    \n",
    "    d1 = (np.log(S / K) + (r - q + 0.5 * vol ** 2) * T) / (vol * np.sqrt(T))\n",
    "    d2 = (np.log(S / K) + (r - q - 0.5 * vol ** 2) * T) / (vol * np.sqrt(T))\n",
    "    theta = vol * S * np.exp(-q * T) * si.norm.pdf(d1, 0.0, 1.0) / (2 * np.sqrt(T)) - q * S * np.exp(-q * T) * si.norm.cdf(d1, 0.0, 1.0) + r * K * np.exp(-r * T) * si.norm.cdf(d2, 0.0, 1.0)\n",
    "    return theta"
   ]
  },
  {
   "cell_type": "code",
   "execution_count": 49,
   "id": "7583541e",
   "metadata": {},
   "outputs": [
    {
     "data": {
      "text/plain": [
       "5.7139501357207685"
      ]
     },
     "execution_count": 49,
     "metadata": {},
     "output_type": "execute_result"
    }
   ],
   "source": [
    "theta(101.99, 110, 1, 0.0136, 0, 0.2567, 'call')"
   ]
  },
  {
   "cell_type": "code",
   "execution_count": 50,
   "id": "7ae2cc71",
   "metadata": {},
   "outputs": [],
   "source": [
    "T = np.linspace(0.25,3,15)\n",
    "Theta_Call = np.zeros((len(T),1))\n",
    "for i in range(len(T)):\n",
    "    Theta_Call [i] = theta(101.99, 110, T[i], 0.0136, 0, 0.2567, 'call')"
   ]
  },
  {
   "cell_type": "code",
   "execution_count": 51,
   "id": "63527c17",
   "metadata": {},
   "outputs": [
    {
     "data": {
      "text/plain": [
       "<matplotlib.legend.Legend at 0x271bd2e4fa0>"
      ]
     },
     "execution_count": 51,
     "metadata": {},
     "output_type": "execute_result"
    },
    {
     "data": {
      "image/png": "[encoded data removed]",
      "text/plain": [
       "<Figure size 432x288 with 1 Axes>"
      ]
     },
     "metadata": {
      "needs_background": "light"
     },
     "output_type": "display_data"
    }
   ],
   "source": [
    "fig = plt.figure()\n",
    "plt.plot(T, Theta_Call, '-')\n",
    "plt.grid()\n",
    "plt.xlabel('Time to Expiry')\n",
    "plt.ylabel('Theta')\n",
    "plt.title('Theta')\n",
    "plt.legend(['Theta for Call'])"
   ]
  },
  {
   "cell_type": "markdown",
   "id": "2bba8d87",
   "metadata": {},
   "source": [
    "### Step 6-e: Rho"
   ]
  },
  {
   "cell_type": "code",
   "execution_count": 52,
   "id": "33cef2af",
   "metadata": {},
   "outputs": [],
   "source": [
    "def rho(S, K, T, r, q, vol, payoff):\n",
    "    \n",
    "    d1 = (np.log(S / K) + (r - q + 0.5 * vol ** 2) * T) / (vol * np.sqrt(T))\n",
    "    d2 = (np.log(S / K) + (r - q - 0.5 * vol ** 2) * T) / (vol * np.sqrt(T))\n",
    "    rho =  K * T * np.exp(-r * T) * si.norm.cdf(d2, 0.0, 1.0)\n",
    "    return rho"
   ]
  },
  {
   "cell_type": "code",
   "execution_count": 53,
   "id": "2625fb85",
   "metadata": {},
   "outputs": [
    {
     "data": {
      "text/plain": [
       "38.601613079467995"
      ]
     },
     "execution_count": 53,
     "metadata": {},
     "output_type": "execute_result"
    }
   ],
   "source": [
    "rho(101.99, 110, 1, 0.0136, 0, 0.2567, 'call')"
   ]
  },
  {
   "cell_type": "code",
   "execution_count": 54,
   "id": "8df2df79",
   "metadata": {},
   "outputs": [],
   "source": [
    "r = np.linspace(0,0.1,11)\n",
    "Rho_Call = np.zeros((len(r),1))\n",
    "Rho_Put = np.zeros((len(r),1))\n",
    "for i in range(len(r)):\n",
    "    Rho_Call [i] = rho(101.99, 110, 1, r[i], 0, 0.2567, 'call')"
   ]
  },
  {
   "cell_type": "code",
   "execution_count": 55,
   "id": "0112546d",
   "metadata": {},
   "outputs": [
    {
     "data": {
      "text/plain": [
       "<matplotlib.legend.Legend at 0x271bd34d610>"
      ]
     },
     "execution_count": 55,
     "metadata": {},
     "output_type": "execute_result"
    },
    {
     "data": {
      "image/png": "[encoded data removed]",
      "text/plain": [
       "<Figure size 432x288 with 1 Axes>"
      ]
     },
     "metadata": {
      "needs_background": "light"
     },
     "output_type": "display_data"
    }
   ],
   "source": [
    "fig = plt.figure()\n",
    "plt.plot(r, Rho_Call, '-')\n",
    "plt.grid()\n",
    "plt.xlabel('Interest Rate')\n",
    "plt.ylabel('Rho')\n",
    "plt.title('Rho')\n",
    "plt.legend(['Rho for Call'])"
   ]
  },
  {
   "cell_type": "markdown",
   "id": "4c69478e",
   "metadata": {},
   "source": [
    "## EOF"
   ]
  }
 ],
 "metadata": {
  "kernelspec": {
   "display_name": "Python 3",
   "language": "python",
   "name": "python3"
  },
  "language_info": {
   "codemirror_mode": {
    "name": "ipython",
    "version": 3
   },
   "file_extension": ".py",
   "mimetype": "text/x-python",
   "name": "python",
   "nbconvert_exporter": "python",
   "pygments_lexer": "ipython3",
   "version": "3.8.8"
  }
 },
 "nbformat": 4,
 "nbformat_minor": 5
}
